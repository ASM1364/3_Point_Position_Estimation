{
 "cells": [
  {
   "cell_type": "markdown",
   "id": "c8b61ff8-bdd3-4ef2-b7d4-f2602fb1c7be",
   "metadata": {},
   "source": [
    "# ******************************************\n",
    "# * 3_Point_Position_Estimation \n",
    "## * Ali Soltan Mohammdi\n",
    "### * Fall 2023\n",
    "### ali.s.mohammadi@znu.ac.ir\n",
    "# ******************************************"
   ]
  },
  {
   "cell_type": "markdown",
   "id": "8e712d80-94c8-4882-a728-34b66df1c79a",
   "metadata": {},
   "source": [
    "## Exercise description"
   ]
  },
  {
   "cell_type": "markdown",
   "id": "7fcd2d64-a6cb-42d1-a9e1-d623a6eef004",
   "metadata": {},
   "source": [
    "#### In this exercise, we consider three sensor nodes located at arbitrary coordinates. The algorithm takes as inputs the coordinates and communication radius of these nodes. Our objective is to draw a triangle by connecting these three points. We will then draw perpendiculars from each side of the triangle, which intersect at a point denoted as Z. Our goal is to determine if point Z falls within the communication range of any of the nodes. The algorithm's output includes the coordinates of point Z, the number of nodes whose communication range includes Z (denoted as K), and the names of these nodes. Additionally, a graph illustrating the nodes and point Z is drawn on the coordinate axis."
   ]
  },
  {
   "cell_type": "code",
   "execution_count": null,
   "id": "2172f327-02f1-4e50-8d6b-585a7e93a459",
   "metadata": {},
   "outputs": [],
   "source": []
  },
  {
   "cell_type": "code",
   "execution_count": 17,
   "id": "0648dede-87d9-4483-859d-ae00dd7986de",
   "metadata": {},
   "outputs": [
    {
     "name": "stdout",
     "output_type": "stream",
     "text": [
      "Enter the x-coordinate of Node A:  0\n",
      "Enter the y-coordinate of Node A:  4\n",
      "Enter the comunication radius of Node A:  6\n",
      "Enter the x-coordinate of Node B:  3\n",
      "Enter the y-coordinate of Node B:  0\n",
      "Enter the comunication radius of Node B:  5\n",
      "Enter the x-coordinate of Node C:  -4\n",
      "Enter the y-coordinate of Node C:  0\n",
      "Enter the comunication radius of Node C:  7\n"
     ]
    },
    {
     "name": "stdout",
     "output_type": "stream",
     "text": [
      "The coordinates of point Z are (-0.50, 0.50).\n",
      "Point Z is inside 3 circle(s): Node A, Node B, Node C.\n"
     ]
    },
    {
     "data": {
      "image/png": "[encoded data removed]",
      "text/plain": [
       "<Figure size 640x480 with 1 Axes>"
      ]
     },
     "metadata": {},
     "output_type": "display_data"
    }
   ],
   "source": [
    "import math\n",
    "import matplotlib.pyplot as plt\n",
    "from matplotlib.patches import Circle\n",
    "\n",
    "# Calculate midpoint\n",
    "def calculate_midpoint(x1, y1, x2, y2):\n",
    "    midpoint_x = (x1 + x2) / 2\n",
    "    midpoint_y = (y1 + y2) / 2\n",
    "    return midpoint_x, midpoint_y\n",
    "    \n",
    "# Calculate perpendicular bisector\n",
    "def calculate_perpendicular_bisector_slope(x1, y1, x2, y2):\n",
    "    if x2 - x1 == 0:\n",
    "        return 1e12  # return a very large slope value for vertical lines\n",
    "    else:\n",
    "        slope =0.0000000001 + (y2 - y1) / (x2 - x1 + 0.000000001)\n",
    "        perpendicular_slope = -1 / slope\n",
    "        return perpendicular_slope\n",
    "\n",
    "# Calculate distance\n",
    "def calculate_distance(x1, y1, x2, y2):\n",
    "    return math.sqrt((x2 - x1)**2 + (y2 - y1)**2)\n",
    "\n",
    "\n",
    "# Calculate perpendicular bisector intercept\n",
    "def calculate_perpendicular_bisector_intercept(x1, y1, x2, y2):\n",
    "    midpoint_x, midpoint_y = calculate_midpoint(x1, y1, x2, y2)\n",
    "    slope = calculate_perpendicular_bisector_slope(x1, y1, x2, y2)\n",
    "    intercept = midpoint_y - slope * midpoint_x\n",
    "    return intercept\n",
    "\n",
    "# calculate perpendicular bisector intercept\n",
    "def calculate_intersection_point(x1, y1, r1, x2, y2, r2, x3, y3, r3):\n",
    "    m1 = calculate_perpendicular_bisector_slope(x2, y2, x3, y3)\n",
    "    b1 = calculate_perpendicular_bisector_intercept(x2, y2, x3, y3)\n",
    "    m2 = calculate_perpendicular_bisector_slope(x1, y1, x3, y3)\n",
    "    b2 = calculate_perpendicular_bisector_intercept(x1, y1, x3, y3)\n",
    "    m3 = calculate_perpendicular_bisector_slope(x1, y1, x2, y2)\n",
    "    b3 = calculate_perpendicular_bisector_intercept(x1, y1, x2, y2)\n",
    "\n",
    "    x = 0.000000001 + (b3 - b2) / (m2 - m3 + 0.000000001)\n",
    "    y = m2 * x + b2\n",
    "\n",
    "    return x, y\n",
    "\n",
    "# calculate circles inclusion\n",
    "def calculate_circles_inclusion(x1, y1, r1, x2, y2, r2, x3, y3, r3):\n",
    "    Z = calculate_intersection_point(x1, y1, r1, x2, y2, r2, x3, y3, r3)\n",
    "\n",
    "    circles = []\n",
    "    if calculate_distance(x1, y1, Z[0], Z[1]) <= r1:\n",
    "        circles.append(\"Node A\")\n",
    "    if calculate_distance(x2, y2, Z[0], Z[1]) <= r2:\n",
    "        circles.append(\"Node B\")\n",
    "    if calculate_distance(x3, y3, Z[0], Z[1]) <= r3:\n",
    "        circles.append(\"Node C\")\n",
    "\n",
    "    return Z[0], Z[1], len(circles), circles\n",
    "\n",
    "\n",
    "# Take inputs from the user\n",
    "x1 = float(input(\"Enter the x-coordinate of Node A: \"))\n",
    "y1 = float(input(\"Enter the y-coordinate of Node A: \"))\n",
    "r1 = float(input(\"Enter the comunication radius of Node A: \"))\n",
    "\n",
    "x2 = float(input(\"Enter the x-coordinate of Node B: \"))\n",
    "y2 = float(input(\"Enter the y-coordinate of Node B: \"))\n",
    "r2 = float(input(\"Enter the comunication radius of Node B: \"))\n",
    "\n",
    "x3 = float(input(\"Enter the x-coordinate of Node C: \"))\n",
    "y3 = float(input(\"Enter the y-coordinate of Node C: \"))\n",
    "r3 = float(input(\"Enter the comunication radius of Node C: \"))\n",
    "\n",
    "# Calculate the coordinates of point Z and the number of circles that include point Z\n",
    "Z = calculate_circles_inclusion(x1, y1, r1, x2, y2, r2, x3, y3, r3)\n",
    "\n",
    "# Print the output\n",
    "print(f\"The coordinates of point Z are ({Z[0]:.2f}, {Z[1]:.2f}).\")\n",
    "if Z[2] == 0:\n",
    "    print(\"Point Z is not inside any Node.\")\n",
    "else:\n",
    "    print(f\"Point Z is inside {Z[2]} circle(s): {', '.join(Z[3])}.\")\n",
    "\n",
    "# Draw the diagram\n",
    "fig, ax = plt.subplots()\n",
    "\n",
    "ax.set_aspect('equal')\n",
    "ax.set_xlim(min(x1-r1,x2-r2,x3-r3)-10,max(x1+r1,x2+r2,x3+r3)+10)\n",
    "ax.set_ylim(min(y1-r1,y2-r2,y3-r3)-10,max(y1+r1,y2+r2,y3+r3)+10)\n",
    "\n",
    "circle_A = Circle((x1,y1),r1,alpha=0.5)\n",
    "circle_B = Circle((x2,y2),r2,alpha=0.5)\n",
    "circle_C = Circle((x3,y3),r3,alpha=0.5)\n",
    "\n",
    "ax.add_patch(circle_A)\n",
    "ax.add_patch(circle_B)\n",
    "ax.add_patch(circle_C)\n",
    "\n",
    "ax.plot([x1,x2],[y1,y2],'k--')\n",
    "ax.plot([x2,x3],[y2,y3],'k--')\n",
    "ax.plot([x3,x1],[y3,y1],'k--')\n",
    "\n",
    "ax.plot(Z[0],Z[1],'ro')\n",
    "\n",
    "plt.show()"
   ]
  },
  {
   "cell_type": "code",
   "execution_count": null,
   "id": "aff0a2b5-ee40-482c-bf90-6bc859d7082d",
   "metadata": {},
   "outputs": [],
   "source": []
  }
 ],
 "metadata": {
  "kernelspec": {
   "display_name": "Python 3 (ipykernel)",
   "language": "python",
   "name": "python3"
  },
  "language_info": {
   "codemirror_mode": {
    "name": "ipython",
    "version": 3
   },
   "file_extension": ".py",
   "mimetype": "text/x-python",
   "name": "python",
   "nbconvert_exporter": "python",
   "pygments_lexer": "ipython3",
   "version": "3.11.5"
  }
 },
 "nbformat": 4,
 "nbformat_minor": 5
}
